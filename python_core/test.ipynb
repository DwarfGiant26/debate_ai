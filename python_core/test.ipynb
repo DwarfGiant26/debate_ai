{
 "cells": [
  {
   "cell_type": "code",
   "execution_count": 1,
   "id": "84919e74d2d10e5",
   "metadata": {
    "ExecuteTime": {
     "end_time": "2024-08-20T10:38:48.448032Z",
     "start_time": "2024-08-20T10:38:48.443918Z"
    }
   },
   "outputs": [],
   "source": [
    "import nest_asyncio\n",
    "\n",
    "nest_asyncio.apply()\n",
    "import os\n",
    "import json\n",
    "\n",
    "with open(\"secrets.json\") as f:\n",
    "    secrets = json.load(f)\n",
    "    for env_var_name in secrets:\n",
    "        os.environ[env_var_name] = secrets[env_var_name]"
   ]
  },
  {
   "cell_type": "code",
   "outputs": [],
   "source": [
    "from llama_index.core import SimpleDirectoryReader\n",
    "# load documents\n",
    "documents = SimpleDirectoryReader(input_files=[\"Origin_of_Species.pdf\"]).load_data()"
   ],
   "metadata": {
    "collapsed": false,
    "ExecuteTime": {
     "end_time": "2024-08-20T10:38:53.310026Z",
     "start_time": "2024-08-20T10:38:50.278136Z"
    }
   },
   "id": "ccaddec9a60eac24",
   "execution_count": 2
  },
  {
   "cell_type": "code",
   "outputs": [],
   "source": [
    "from llama_index.core import Document\n",
    "t = \"\"\"\n",
    "Chapter 1\n",
    "\n",
    "[1:1] In the beginning when God created the heavens and the earth,\n",
    "[1:2] the earth was a formless void and darkness covered the face of the deep, while a wind from God swept over the face of the waters.\n",
    "[1:3] Then God said, \"Let there be light\"; and there was light.\n",
    "[1:4] And God saw that the light was good; and God separated the light from the darkness.\n",
    "[1:5] God called the light Day, and the darkness he called Night. And there was evening and there was morning, the first day.\n",
    "[1:6] And God said, \"Let there be a dome in the midst of the waters, and let it separate the waters from the waters.\"\n",
    "[1:7] So God made the dome and separated the waters that were under the dome from the waters that were above the dome. And it was so.\n",
    "[1:8] God called the dome Sky. And there was evening and there was morning, the second day.\n",
    "[1:9] And God said, \"Let the waters under the sky be gathered together into one place, and let the dry land appear.\" And it was so.\n",
    "[1:10] God called the dry land Earth, and the waters that were gathered together he called Seas. And God saw that it was good.\n",
    "[1:11] Then God said, \"Let the earth put forth vegetation: plants yielding seed, and fruit trees of every kind on earth that bear fruit with the seed in it.\" And it was so.\n",
    "[1:12] The earth brought forth vegetation: plants yielding seed of every kind, and trees of every kind bearing fruit with the seed in it. And God saw that it was good.\n",
    "[1:13] And there was evening and there was morning, the third day.\n",
    "[1:14] And God said, \"Let there be lights in the dome of the sky to separate the day from the night; and let them be for signs and for seasons and for days and years,\n",
    "[1:15] and let them be lights in the dome of the sky to give light upon the earth.\" And it was so.\n",
    "[1:16] God made the two great lights - the greater light to rule the day and the lesser light to rule the night - and the stars.\n",
    "[1:17] God set them in the dome of the sky to give light upon the earth,\n",
    "[1:18] to rule over the day and over the night, and to separate the light from the darkness. And God saw that it was good.\n",
    "[1:19] And there was evening and there was morning, the fourth day.\n",
    "[1:20] And God said, \"Let the waters bring forth swarms of living creatures, and let birds fly above the earth across the dome of the sky.\"\n",
    "[1:21] So God created the great sea monsters and every living creature that moves, of every kind, with which the waters swarm, and every winged bird of every kind. And God saw that it was good.\n",
    "[1:22] God blessed them, saying, \"Be fruitful and multiply and fill the waters in the seas, and let birds multiply on the earth.\"\n",
    "[1:23] And there was evening and there was morning, the fifth day.\n",
    "[1:24] And God said, \"Let the earth bring forth living creatures of every kind: cattle and creeping things and wild animals of the earth of every kind.\" And it was so.\n",
    "[1:25] God made the wild animals of the earth of every kind, and the cattle of every kind, and everything that creeps upon the ground of every kind. And God saw that it was good.\n",
    "[1:26] Then God said, \"Let us make humankind in our image, according to our likeness; and let them have dominion over the fish of the sea, and over the birds of the air, and over the cattle, and over all the wild animals of the earth, and over every creeping thing that creeps upon the earth.\"\n",
    "[1:27] So God created humankind in his image, in the image of God he created them; male and female he created them.\n",
    "[1:28] God blessed them, and God said to them, \"Be fruitful and multiply, and fill the earth and subdue it; and have dominion over the fish of the sea and over the birds of the air and over every living thing that moves upon the earth.\"\n",
    "[1:29] God said, \"See, I have given you every plant yielding seed that is upon the face of all the earth, and every tree with seed in its fruit; you shall have them for food.\n",
    "[1:30] And to every beast of the earth, and to every bird of the air, and to everything that creeps on the earth, everything that has the breath of life, I have given every green plant for food.\" And it was so.\n",
    "[1:31] God saw everything that he had made, and indeed, it was very good. And there was evening and there was morning, the sixth day.\n",
    "\n",
    "Chapter 2\n",
    "\n",
    "[2:1] Thus the heavens and the earth were finished, and all their multitude.\n",
    "[2:2] And on the seventh day God finished the work that he had done, and he rested on the seventh day from all the work that he had done.\n",
    "[2:3] So God blessed the seventh day and hallowed it, because on it God rested from all the work that he had done in creation.\n",
    "[2:4] These are the generations of the heavens and the earth when they were created. In the day that the LORD God made the earth and the heavens,\n",
    "[2:5] when no plant of the field was yet in the earth and no herb of the field had yet sprung up - for the LORD God had not caused it to rain upon the earth, and there was no one to till the ground;\n",
    "[2:6] but a stream would rise from the earth, and water the whole face of the ground -\n",
    "[2:7] then the LORD God formed man from the dust of the ground, and breathed into his nostrils the breath of life; and the man became a living being.\n",
    "[2:8] And the LORD God planted a garden in Eden, in the east; and there he put the man whom he had formed.\n",
    "[2:9] Out of the ground the LORD God made to grow every tree that is pleasant to the sight and good for food, the tree of life also in the midst of the garden, and the tree of the knowledge of good and evil.\n",
    "[2:10] A river flows out of Eden to water the garden, and from there it divides and becomes four branches.\n",
    "[2:11] The name of the first is Pishon; it is the one that flows around the whole land of Havilah, where there is gold;\n",
    "[2:12] and the gold of that land is good; bdellium and onyx stone are there.\n",
    "[2:13] The name of the second river is Gihon; it is the one that flows around the whole land of Cush.\n",
    "[2:14] The name of the third river is Tigris, which flows east of Assyria. And the fourth river is the Euphrates.\n",
    "[2:15] The LORD God took the man and put him in the garden of Eden to till it and keep it.\n",
    "[2:16] And the LORD God commanded the man, \"You may freely eat of every tree of the garden;\n",
    "[2:17] but of the tree of the knowledge of good and evil you shall not eat, for in the day that you eat of it you shall die.\"\n",
    "[2:18] Then the LORD God said, \"It is not good that the man should be alone; I will make him a helper as his partner.\"\n",
    "[2:19] So out of the ground the LORD God formed every animal of the field and every bird of the air, and brought them to the man to see what he would call them; and whatever the man called every living creature, that was its name.\n",
    "[2:20] The man gave names to all cattle, and to the birds of the air, and to every animal of the field; but for the man there was not found a helper as his partner.\n",
    "[2:21] So the LORD God caused a deep sleep to fall upon the man, and he slept; then he took one of his ribs and closed up its place with flesh.\n",
    "[2:22] And the rib that the LORD God had taken from the man he made into a woman and brought her to the man.\n",
    "[2:23] Then the man said, \"This at last is bone of my bones and flesh of my flesh; this one shall be called Woman, for out of Man this one was taken.\"\n",
    "[2:24] Therefore a man leaves his father and his mother and clings to his wife, and they become one flesh.\n",
    "[2:25] And the man and his wife were both naked, and were not ashamed.\n",
    "\"\"\"\n",
    "\n",
    "documents = [Document(text=t)]"
   ],
   "metadata": {
    "collapsed": false,
    "ExecuteTime": {
     "end_time": "2024-08-20T10:40:12.170708Z",
     "start_time": "2024-08-20T10:40:12.166445Z"
    }
   },
   "id": "b69aeec61f55d00a",
   "execution_count": 4
  },
  {
   "cell_type": "code",
   "execution_count": 5,
   "id": "cbdddaef727552d2",
   "metadata": {
    "ExecuteTime": {
     "end_time": "2024-08-20T10:40:23.579667Z",
     "start_time": "2024-08-20T10:40:23.408052Z"
    }
   },
   "outputs": [],
   "source": [
    "from llama_index.core.node_parser import SentenceSplitter\n",
    "\n",
    "splitter = SentenceSplitter(chunk_size=1024)\n",
    "nodes = splitter.get_nodes_from_documents(documents)"
   ]
  },
  {
   "cell_type": "code",
   "execution_count": 6,
   "id": "47faf78db80b44cf",
   "metadata": {
    "ExecuteTime": {
     "end_time": "2024-08-20T10:40:26.222616Z",
     "start_time": "2024-08-20T10:40:26.208209Z"
    }
   },
   "outputs": [],
   "source": [
    "# from llama_index.core import Settings\n",
    "# from llama_index.llms.ollama import Ollama\n",
    "# from llama_index.embeddings.ollama import OllamaEmbedding\n",
    "# \n",
    "# Settings.llm = Ollama(model=\"qwen:0.5b\", request_timeout=60.0)\n",
    "# \n",
    "# ollama_embedding = OllamaEmbedding(\n",
    "#     model_name=\"qwen:0.5b\",\n",
    "#     base_url=\"http://localhost:11434\",\n",
    "#     ollama_additional_kwargs={\"mirostat\": 0},\n",
    "# )\n",
    "# Settings.embed_model = ollama_embedding\n",
    "\n",
    "# running local model above is super slow. 127 times slower to be precise\n",
    "from llama_index.core import Settings\n",
    "from llama_index.llms.openai import OpenAI\n",
    "from llama_index.embeddings.openai import OpenAIEmbedding\n",
    "\n",
    "Settings.llm = OpenAI(model=\"gpt-3.5-turbo\")\n",
    "Settings.embed_model = OpenAIEmbedding(model=\"text-embedding-ada-002\")\n"
   ]
  },
  {
   "cell_type": "code",
   "execution_count": 7,
   "id": "17a0e16272b2d047",
   "metadata": {
    "ExecuteTime": {
     "end_time": "2024-08-20T10:40:29.294948Z",
     "start_time": "2024-08-20T10:40:28.741060Z"
    }
   },
   "outputs": [],
   "source": [
    "from llama_index.core import SummaryIndex, VectorStoreIndex\n",
    "\n",
    "summary_index = SummaryIndex(nodes)\n",
    "vector_index = VectorStoreIndex(nodes)"
   ]
  },
  {
   "cell_type": "code",
   "execution_count": 8,
   "id": "7a7f789467a86997",
   "metadata": {
    "ExecuteTime": {
     "end_time": "2024-08-20T10:40:30.155759Z",
     "start_time": "2024-08-20T10:40:30.152249Z"
    }
   },
   "outputs": [],
   "source": [
    "summary_query_engine = summary_index.as_query_engine(\n",
    "    response_mode=\"tree_summarize\",\n",
    "    use_async=True,\n",
    ")\n",
    "vector_query_engine = vector_index.as_query_engine()"
   ]
  },
  {
   "cell_type": "code",
   "execution_count": 9,
   "id": "63e5f5900cc93f01",
   "metadata": {
    "ExecuteTime": {
     "end_time": "2024-08-20T10:40:32.506363Z",
     "start_time": "2024-08-20T10:40:32.503084Z"
    }
   },
   "outputs": [],
   "source": [
    "from llama_index.core.tools import QueryEngineTool\n",
    "\n",
    "summary_tool = QueryEngineTool.from_defaults(\n",
    "    query_engine=summary_query_engine,\n",
    "    description=(\n",
    "        \"Useful for summarization questions\"\n",
    "    ),\n",
    ")\n",
    "\n",
    "vector_tool = QueryEngineTool.from_defaults(\n",
    "    query_engine=vector_query_engine,\n",
    "    description=(\n",
    "        \"Useful for retrieving specific context\"\n",
    "    ),\n",
    ")"
   ]
  },
  {
   "cell_type": "code",
   "execution_count": 10,
   "id": "c635b74199cb6ef3",
   "metadata": {
    "ExecuteTime": {
     "end_time": "2024-08-20T10:40:35.014704Z",
     "start_time": "2024-08-20T10:40:35.010972Z"
    }
   },
   "outputs": [],
   "source": [
    "from llama_index.core.query_engine.router_query_engine import RouterQueryEngine\n",
    "from llama_index.core.selectors import LLMSingleSelector\n",
    "\n",
    "\n",
    "query_engine = RouterQueryEngine(\n",
    "    selector=LLMSingleSelector.from_defaults(),\n",
    "    query_engine_tools=[\n",
    "        summary_tool,\n",
    "        vector_tool,\n",
    "    ],\n",
    "    verbose=True\n",
    ")"
   ]
  },
  {
   "cell_type": "code",
   "execution_count": 11,
   "id": "407a6640aad0311c",
   "metadata": {
    "ExecuteTime": {
     "end_time": "2024-08-20T10:40:44.520375Z",
     "start_time": "2024-08-20T10:40:39.461992Z"
    }
   },
   "outputs": [
    {
     "name": "stdout",
     "output_type": "stream",
     "text": [
      "\u001B[1;3;38;5;200mSelecting query engine 0: Useful for summarization questions.\n",
      "\u001B[0mThe document describes the creation of the heavens and the earth by God in six days, including the separation of light and darkness, the formation of the sky, land, seas, vegetation, celestial bodies, sea creatures, birds, land animals, and humankind. It also details the creation of man and woman, their placement in the Garden of Eden, the command not to eat from the tree of knowledge of good and evil, the creation of woman from man's rib, and the establishment of marriage.\n"
     ]
    }
   ],
   "source": [
    "response = query_engine.query(\"What is the summary of the document?\")\n",
    "print(str(response))"
   ]
  }
 ],
 "metadata": {
  "kernelspec": {
   "display_name": "Python 3",
   "language": "python",
   "name": "python3"
  },
  "language_info": {
   "codemirror_mode": {
    "name": "ipython",
    "version": 2
   },
   "file_extension": ".py",
   "mimetype": "text/x-python",
   "name": "python",
   "nbconvert_exporter": "python",
   "pygments_lexer": "ipython2",
   "version": "2.7.6"
  }
 },
 "nbformat": 4,
 "nbformat_minor": 5
}
