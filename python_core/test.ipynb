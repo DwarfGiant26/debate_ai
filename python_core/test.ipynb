{
 "cells": [
  {
   "cell_type": "code",
   "execution_count": 35,
   "id": "84919e74d2d10e5",
   "metadata": {
    "ExecuteTime": {
     "end_time": "2024-08-17T13:38:14.384780Z",
     "start_time": "2024-08-17T13:38:14.382027Z"
    }
   },
   "outputs": [],
   "source": [
    "import nest_asyncio\n",
    "\n",
    "nest_asyncio.apply()\n",
    "import os\n",
    "import json\n",
    "\n",
    "with open(\"secrets.json\") as f:\n",
    "    secrets = json.load(f)\n",
    "    for env_var_name in secrets:\n",
    "        os.environ[env_var_name] = secrets[env_var_name]"
   ]
  },
  {
   "cell_type": "code",
   "outputs": [],
   "source": [
    "from llama_index.core import SimpleDirectoryReader\n",
    "# load documents\n",
    "documents = SimpleDirectoryReader(input_files=[\"Origin_of_Species.pdf\"]).load_data()"
   ],
   "metadata": {
    "collapsed": false
   },
   "id": "ccaddec9a60eac24"
  },
  {
   "cell_type": "code",
   "execution_count": 4,
   "id": "cbdddaef727552d2",
   "metadata": {
    "ExecuteTime": {
     "end_time": "2024-08-17T11:36:33.511640Z",
     "start_time": "2024-08-17T11:36:33.141297Z"
    }
   },
   "outputs": [],
   "source": [
    "from llama_index.core.node_parser import SentenceSplitter\n",
    "\n",
    "splitter = SentenceSplitter(chunk_size=1024)\n",
    "nodes = splitter.get_nodes_from_documents(documents)"
   ]
  },
  {
   "cell_type": "code",
   "execution_count": 27,
   "id": "47faf78db80b44cf",
   "metadata": {
    "ExecuteTime": {
     "end_time": "2024-08-17T13:31:24.891868Z",
     "start_time": "2024-08-17T13:31:24.884028Z"
    }
   },
   "outputs": [],
   "source": [
    "# from llama_index.core import Settings\n",
    "# from llama_index.llms.ollama import Ollama\n",
    "# from llama_index.embeddings.ollama import OllamaEmbedding\n",
    "# \n",
    "# Settings.llm = Ollama(model=\"qwen:0.5b\", request_timeout=60.0)\n",
    "# \n",
    "# ollama_embedding = OllamaEmbedding(\n",
    "#     model_name=\"qwen:0.5b\",\n",
    "#     base_url=\"http://localhost:11434\",\n",
    "#     ollama_additional_kwargs={\"mirostat\": 0},\n",
    "# )\n",
    "# Settings.embed_model = ollama_embedding\n",
    "\n",
    "# running local model above is super slow. 127 times slower to be precise\n",
    "from llama_index.core import Settings\n",
    "from llama_index.llms.openai import OpenAI\n",
    "from llama_index.embeddings.openai import OpenAIEmbedding\n",
    "\n",
    "Settings.llm = OpenAI(model=\"gpt-3.5-turbo\")\n",
    "Settings.embed_model = OpenAIEmbedding(model=\"text-embedding-ada-002\")\n"
   ]
  },
  {
   "cell_type": "code",
   "execution_count": 28,
   "id": "17a0e16272b2d047",
   "metadata": {
    "ExecuteTime": {
     "end_time": "2024-08-17T13:31:36.999924Z",
     "start_time": "2024-08-17T13:31:28.729227Z"
    }
   },
   "outputs": [],
   "source": [
    "from llama_index.core import SummaryIndex, VectorStoreIndex\n",
    "\n",
    "summary_index = SummaryIndex(nodes)\n",
    "vector_index = VectorStoreIndex(nodes)"
   ]
  },
  {
   "cell_type": "code",
   "execution_count": 30,
   "id": "7a7f789467a86997",
   "metadata": {
    "ExecuteTime": {
     "end_time": "2024-08-17T13:32:28.166841Z",
     "start_time": "2024-08-17T13:32:28.164118Z"
    }
   },
   "outputs": [],
   "source": [
    "summary_query_engine = summary_index.as_query_engine(\n",
    "    response_mode=\"tree_summarize\",\n",
    "    use_async=True,\n",
    ")\n",
    "vector_query_engine = vector_index.as_query_engine()"
   ]
  },
  {
   "cell_type": "code",
   "execution_count": 31,
   "id": "63e5f5900cc93f01",
   "metadata": {
    "ExecuteTime": {
     "end_time": "2024-08-17T13:32:30.099181Z",
     "start_time": "2024-08-17T13:32:30.096483Z"
    }
   },
   "outputs": [],
   "source": [
    "from llama_index.core.tools import QueryEngineTool\n",
    "\n",
    "summary_tool = QueryEngineTool.from_defaults(\n",
    "    query_engine=summary_query_engine,\n",
    "    description=(\n",
    "        \"Useful for summarization questions\"\n",
    "    ),\n",
    ")\n",
    "\n",
    "vector_tool = QueryEngineTool.from_defaults(\n",
    "    query_engine=vector_query_engine,\n",
    "    description=(\n",
    "        \"Useful for retrieving specific context\"\n",
    "    ),\n",
    ")"
   ]
  },
  {
   "cell_type": "code",
   "execution_count": 32,
   "id": "c635b74199cb6ef3",
   "metadata": {
    "ExecuteTime": {
     "end_time": "2024-08-17T13:32:32.480478Z",
     "start_time": "2024-08-17T13:32:32.473970Z"
    }
   },
   "outputs": [],
   "source": [
    "from llama_index.core.query_engine.router_query_engine import RouterQueryEngine\n",
    "from llama_index.core.selectors import LLMSingleSelector\n",
    "\n",
    "\n",
    "query_engine = RouterQueryEngine(\n",
    "    selector=LLMSingleSelector.from_defaults(),\n",
    "    query_engine_tools=[\n",
    "        summary_tool,\n",
    "        vector_tool,\n",
    "    ],\n",
    "    verbose=True\n",
    ")"
   ]
  },
  {
   "cell_type": "code",
   "execution_count": 33,
   "id": "407a6640aad0311c",
   "metadata": {
    "ExecuteTime": {
     "end_time": "2024-08-17T13:32:55.275529Z",
     "start_time": "2024-08-17T13:32:34.479729Z"
    }
   },
   "outputs": [
    {
     "name": "stdout",
     "output_type": "stream",
     "text": [
      "\u001B[1;3;38;5;200mSelecting query engine 0: Useful for summarization questions.\n",
      "\u001B[0mThe document provides a comprehensive overview of various topics related to evolution, natural selection, adaptation, and the development of species. It discusses the principles of selection and breeding in domestic animals and plants, the concept of natural selection in shaping species traits, the role of environmental factors in species survival, the process of species evolution through natural selection, the inheritance of instincts and traits in organisms, the sterility of hybrids and species, the slow and gradual process of species modification and extinction, the distribution of species around the world, the factors influencing species presence on oceanic islands, the natural system of classification based on genealogical relationships, and the challenges and objections faced by the theory of descent with modification through natural selection. The document also explores specific examples and concepts related to the diversity of life forms, the impact of migration on species diversity, and the future progress of natural history.\n"
     ]
    }
   ],
   "source": [
    "response = query_engine.query(\"What is the summary of the document?\")\n",
    "print(str(response))"
   ]
  }
 ],
 "metadata": {
  "kernelspec": {
   "display_name": "Python 3",
   "language": "python",
   "name": "python3"
  },
  "language_info": {
   "codemirror_mode": {
    "name": "ipython",
    "version": 2
   },
   "file_extension": ".py",
   "mimetype": "text/x-python",
   "name": "python",
   "nbconvert_exporter": "python",
   "pygments_lexer": "ipython2",
   "version": "2.7.6"
  }
 },
 "nbformat": 4,
 "nbformat_minor": 5
}
