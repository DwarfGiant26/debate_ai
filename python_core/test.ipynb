{
 "cells": [
  {
   "cell_type": "code",
   "execution_count": 1,
   "id": "84919e74d2d10e5",
   "metadata": {
    "ExecuteTime": {
     "end_time": "2024-08-24T11:25:37.286327Z",
     "start_time": "2024-08-24T11:25:37.282568Z"
    }
   },
   "outputs": [],
   "source": [
    "import nest_asyncio\n",
    "\n",
    "nest_asyncio.apply()\n",
    "import os\n",
    "import json\n",
    "\n",
    "with open(\"secrets.json\") as f:\n",
    "    secrets = json.load(f)\n",
    "    for env_var_name in secrets:\n",
    "        os.environ[env_var_name] = secrets[env_var_name]"
   ]
  },
  {
   "cell_type": "code",
   "outputs": [],
   "source": [
    "from llama_index.core import SimpleDirectoryReader\n",
    "# load documents\n",
    "documents = SimpleDirectoryReader(input_files=[\"Origin_of_Species.pdf\"]).load_data()"
   ],
   "metadata": {
    "collapsed": false,
    "ExecuteTime": {
     "end_time": "2024-08-24T11:25:40.153658Z",
     "start_time": "2024-08-24T11:25:37.294294Z"
    }
   },
   "id": "ccaddec9a60eac24",
   "execution_count": 2
  },
  {
   "cell_type": "code",
   "outputs": [],
   "source": [],
   "metadata": {
    "collapsed": false,
    "ExecuteTime": {
     "end_time": "2024-08-20T10:40:12.170708Z",
     "start_time": "2024-08-20T10:40:12.166445Z"
    }
   },
   "id": "b69aeec61f55d00a",
   "execution_count": 4
  },
  {
   "cell_type": "code",
   "execution_count": 5,
   "id": "cbdddaef727552d2",
   "metadata": {
    "ExecuteTime": {
     "end_time": "2024-08-23T09:38:19.262974Z",
     "start_time": "2024-08-23T09:38:19.002520Z"
    }
   },
   "outputs": [
    {
     "ename": "NameError",
     "evalue": "name 'documents' is not defined",
     "output_type": "error",
     "traceback": [
      "\u001B[0;31m---------------------------------------------------------------------------\u001B[0m",
      "\u001B[0;31mNameError\u001B[0m                                 Traceback (most recent call last)",
      "Cell \u001B[0;32mIn[5], line 4\u001B[0m\n\u001B[1;32m      1\u001B[0m \u001B[38;5;28;01mfrom\u001B[39;00m \u001B[38;5;21;01mllama_index\u001B[39;00m\u001B[38;5;21;01m.\u001B[39;00m\u001B[38;5;21;01mcore\u001B[39;00m\u001B[38;5;21;01m.\u001B[39;00m\u001B[38;5;21;01mnode_parser\u001B[39;00m \u001B[38;5;28;01mimport\u001B[39;00m SentenceSplitter\n\u001B[1;32m      3\u001B[0m splitter \u001B[38;5;241m=\u001B[39m SentenceSplitter(chunk_size\u001B[38;5;241m=\u001B[39m\u001B[38;5;241m1024\u001B[39m)\n\u001B[0;32m----> 4\u001B[0m nodes \u001B[38;5;241m=\u001B[39m splitter\u001B[38;5;241m.\u001B[39mget_nodes_from_documents(documents)\n",
      "\u001B[0;31mNameError\u001B[0m: name 'documents' is not defined"
     ]
    }
   ],
   "source": [
    "from llama_index.core.node_parser import SentenceSplitter\n",
    "\n",
    "splitter = SentenceSplitter(chunk_size=1024)\n",
    "nodes = splitter.get_nodes_from_documents(documents)"
   ]
  },
  {
   "cell_type": "code",
   "execution_count": 3,
   "id": "47faf78db80b44cf",
   "metadata": {
    "ExecuteTime": {
     "end_time": "2024-08-24T11:25:47.246628Z",
     "start_time": "2024-08-24T11:25:47.232206Z"
    }
   },
   "outputs": [],
   "source": [
    "# from llama_index.core import Settings\n",
    "# from llama_index.llms.ollama import Ollama\n",
    "# from llama_index.embeddings.ollama import OllamaEmbedding\n",
    "# \n",
    "# Settings.llm = Ollama(model=\"qwen:0.5b\", request_timeout=60.0)\n",
    "# \n",
    "# ollama_embedding = OllamaEmbedding(\n",
    "#     model_name=\"qwen:0.5b\",\n",
    "#     base_url=\"http://localhost:11434\",\n",
    "#     ollama_additional_kwargs={\"mirostat\": 0},\n",
    "# )\n",
    "# Settings.embed_model = ollama_embedding\n",
    "\n",
    "# running local model above is super slow. 127 times slower to be precise\n",
    "from llama_index.core import Settings\n",
    "from llama_index.llms.openai import OpenAI\n",
    "from llama_index.embeddings.openai import OpenAIEmbedding\n",
    "\n",
    "Settings.llm = OpenAI(model=\"gpt-3.5-turbo\")\n",
    "Settings.embed_model = OpenAIEmbedding(model=\"text-embedding-ada-002\")\n"
   ]
  },
  {
   "cell_type": "code",
   "outputs": [],
   "source": [
    "completion_result = Settings.llm.complete(\"halo\")"
   ],
   "metadata": {
    "collapsed": false,
    "ExecuteTime": {
     "end_time": "2024-08-24T11:26:32.291587Z",
     "start_time": "2024-08-24T11:26:24.678029Z"
    }
   },
   "id": "eb15687542967a70",
   "execution_count": 5
  },
  {
   "cell_type": "code",
   "outputs": [
    {
     "data": {
      "text/plain": "'Hello! How can I assist you today?'"
     },
     "execution_count": 6,
     "metadata": {},
     "output_type": "execute_result"
    }
   ],
   "source": [
    "completion_result.text"
   ],
   "metadata": {
    "collapsed": false,
    "ExecuteTime": {
     "end_time": "2024-08-24T11:26:32.295231Z",
     "start_time": "2024-08-24T11:26:32.292819Z"
    }
   },
   "id": "af3b2654e29c6b99",
   "execution_count": 6
  },
  {
   "cell_type": "code",
   "execution_count": 4,
   "id": "17a0e16272b2d047",
   "metadata": {
    "ExecuteTime": {
     "end_time": "2024-08-23T09:38:14.048983Z",
     "start_time": "2024-08-23T09:38:14.029703Z"
    }
   },
   "outputs": [
    {
     "ename": "NameError",
     "evalue": "name 'nodes' is not defined",
     "output_type": "error",
     "traceback": [
      "\u001B[0;31m---------------------------------------------------------------------------\u001B[0m",
      "\u001B[0;31mNameError\u001B[0m                                 Traceback (most recent call last)",
      "Cell \u001B[0;32mIn[4], line 3\u001B[0m\n\u001B[1;32m      1\u001B[0m \u001B[38;5;28;01mfrom\u001B[39;00m \u001B[38;5;21;01mllama_index\u001B[39;00m\u001B[38;5;21;01m.\u001B[39;00m\u001B[38;5;21;01mcore\u001B[39;00m \u001B[38;5;28;01mimport\u001B[39;00m SummaryIndex, VectorStoreIndex\n\u001B[0;32m----> 3\u001B[0m summary_index \u001B[38;5;241m=\u001B[39m SummaryIndex(nodes)\n\u001B[1;32m      4\u001B[0m vector_index \u001B[38;5;241m=\u001B[39m VectorStoreIndex(nodes)\n",
      "\u001B[0;31mNameError\u001B[0m: name 'nodes' is not defined"
     ]
    }
   ],
   "source": [
    "from llama_index.core import SummaryIndex, VectorStoreIndex\n",
    "\n",
    "summary_index = SummaryIndex(nodes)\n",
    "vector_index = VectorStoreIndex(nodes)"
   ]
  },
  {
   "cell_type": "code",
   "execution_count": 6,
   "id": "7a7f789467a86997",
   "metadata": {
    "ExecuteTime": {
     "end_time": "2024-08-23T09:38:24.956133Z",
     "start_time": "2024-08-23T09:38:24.940780Z"
    }
   },
   "outputs": [
    {
     "ename": "NameError",
     "evalue": "name 'summary_index' is not defined",
     "output_type": "error",
     "traceback": [
      "\u001B[0;31m---------------------------------------------------------------------------\u001B[0m",
      "\u001B[0;31mNameError\u001B[0m                                 Traceback (most recent call last)",
      "Cell \u001B[0;32mIn[6], line 1\u001B[0m\n\u001B[0;32m----> 1\u001B[0m summary_query_engine \u001B[38;5;241m=\u001B[39m summary_index\u001B[38;5;241m.\u001B[39mas_query_engine(\n\u001B[1;32m      2\u001B[0m     response_mode\u001B[38;5;241m=\u001B[39m\u001B[38;5;124m\"\u001B[39m\u001B[38;5;124mtree_summarize\u001B[39m\u001B[38;5;124m\"\u001B[39m,\n\u001B[1;32m      3\u001B[0m     use_async\u001B[38;5;241m=\u001B[39m\u001B[38;5;28;01mTrue\u001B[39;00m,\n\u001B[1;32m      4\u001B[0m )\n\u001B[1;32m      5\u001B[0m vector_query_engine \u001B[38;5;241m=\u001B[39m vector_index\u001B[38;5;241m.\u001B[39mas_query_engine()\n",
      "\u001B[0;31mNameError\u001B[0m: name 'summary_index' is not defined"
     ]
    }
   ],
   "source": [
    "summary_query_engine = summary_index.as_query_engine(\n",
    "    response_mode=\"tree_summarize\",\n",
    "    use_async=True,\n",
    ")\n",
    "vector_query_engine = vector_index.as_query_engine()"
   ]
  },
  {
   "cell_type": "code",
   "execution_count": 9,
   "id": "63e5f5900cc93f01",
   "metadata": {
    "ExecuteTime": {
     "end_time": "2024-08-23T09:40:01.361810Z",
     "start_time": "2024-08-23T09:40:01.346636Z"
    }
   },
   "outputs": [
    {
     "ename": "NameError",
     "evalue": "name 'summary_query_engine' is not defined",
     "output_type": "error",
     "traceback": [
      "\u001B[0;31m---------------------------------------------------------------------------\u001B[0m",
      "\u001B[0;31mNameError\u001B[0m                                 Traceback (most recent call last)",
      "Cell \u001B[0;32mIn[9], line 4\u001B[0m\n\u001B[1;32m      1\u001B[0m \u001B[38;5;28;01mfrom\u001B[39;00m \u001B[38;5;21;01mllama_index\u001B[39;00m\u001B[38;5;21;01m.\u001B[39;00m\u001B[38;5;21;01mcore\u001B[39;00m\u001B[38;5;21;01m.\u001B[39;00m\u001B[38;5;21;01mtools\u001B[39;00m \u001B[38;5;28;01mimport\u001B[39;00m QueryEngineTool\n\u001B[1;32m      3\u001B[0m summary_tool \u001B[38;5;241m=\u001B[39m QueryEngineTool\u001B[38;5;241m.\u001B[39mfrom_defaults(\n\u001B[0;32m----> 4\u001B[0m     query_engine\u001B[38;5;241m=\u001B[39msummary_query_engine,\n\u001B[1;32m      5\u001B[0m     description\u001B[38;5;241m=\u001B[39m(\n\u001B[1;32m      6\u001B[0m         \u001B[38;5;124m\"\u001B[39m\u001B[38;5;124mUseful for summarization questions\u001B[39m\u001B[38;5;124m\"\u001B[39m\n\u001B[1;32m      7\u001B[0m     ),\n\u001B[1;32m      8\u001B[0m )\n\u001B[1;32m     10\u001B[0m vector_tool \u001B[38;5;241m=\u001B[39m QueryEngineTool\u001B[38;5;241m.\u001B[39mfrom_defaults(\n\u001B[1;32m     11\u001B[0m     query_engine\u001B[38;5;241m=\u001B[39mvector_query_engine,\n\u001B[1;32m     12\u001B[0m     description\u001B[38;5;241m=\u001B[39m(\n\u001B[1;32m     13\u001B[0m         \u001B[38;5;124m\"\u001B[39m\u001B[38;5;124mUseful for retrieving specific context\u001B[39m\u001B[38;5;124m\"\u001B[39m\n\u001B[1;32m     14\u001B[0m     ),\n\u001B[1;32m     15\u001B[0m )\n",
      "\u001B[0;31mNameError\u001B[0m: name 'summary_query_engine' is not defined"
     ]
    }
   ],
   "source": [
    "from llama_index.core.tools import QueryEngineTool\n",
    "\n",
    "summary_tool = QueryEngineTool.from_defaults(\n",
    "    query_engine=summary_query_engine,\n",
    "    description=(\n",
    "        \"Useful for summarization questions\"\n",
    "    ),\n",
    ")\n",
    "\n",
    "vector_tool = QueryEngineTool.from_defaults(\n",
    "    query_engine=vector_query_engine,\n",
    "    description=(\n",
    "        \"Useful for retrieving specific context\"\n",
    "    ),\n",
    ")"
   ]
  },
  {
   "cell_type": "code",
   "execution_count": 7,
   "id": "c635b74199cb6ef3",
   "metadata": {
    "ExecuteTime": {
     "end_time": "2024-08-23T09:39:36.414043Z",
     "start_time": "2024-08-23T09:39:36.397997Z"
    }
   },
   "outputs": [
    {
     "ename": "NameError",
     "evalue": "name 'summary_tool' is not defined",
     "output_type": "error",
     "traceback": [
      "\u001B[0;31m---------------------------------------------------------------------------\u001B[0m",
      "\u001B[0;31mNameError\u001B[0m                                 Traceback (most recent call last)",
      "Cell \u001B[0;32mIn[7], line 8\u001B[0m\n\u001B[1;32m      1\u001B[0m \u001B[38;5;28;01mfrom\u001B[39;00m \u001B[38;5;21;01mllama_index\u001B[39;00m\u001B[38;5;21;01m.\u001B[39;00m\u001B[38;5;21;01mcore\u001B[39;00m\u001B[38;5;21;01m.\u001B[39;00m\u001B[38;5;21;01mquery_engine\u001B[39;00m\u001B[38;5;21;01m.\u001B[39;00m\u001B[38;5;21;01mrouter_query_engine\u001B[39;00m \u001B[38;5;28;01mimport\u001B[39;00m RouterQueryEngine\n\u001B[1;32m      2\u001B[0m \u001B[38;5;28;01mfrom\u001B[39;00m \u001B[38;5;21;01mllama_index\u001B[39;00m\u001B[38;5;21;01m.\u001B[39;00m\u001B[38;5;21;01mcore\u001B[39;00m\u001B[38;5;21;01m.\u001B[39;00m\u001B[38;5;21;01mselectors\u001B[39;00m \u001B[38;5;28;01mimport\u001B[39;00m LLMSingleSelector\n\u001B[1;32m      5\u001B[0m query_engine \u001B[38;5;241m=\u001B[39m RouterQueryEngine(\n\u001B[1;32m      6\u001B[0m     selector\u001B[38;5;241m=\u001B[39mLLMSingleSelector\u001B[38;5;241m.\u001B[39mfrom_defaults(),\n\u001B[1;32m      7\u001B[0m     query_engine_tools\u001B[38;5;241m=\u001B[39m[\n\u001B[0;32m----> 8\u001B[0m         summary_tool,\n\u001B[1;32m      9\u001B[0m         vector_tool,\n\u001B[1;32m     10\u001B[0m     ],\n\u001B[1;32m     11\u001B[0m     verbose\u001B[38;5;241m=\u001B[39m\u001B[38;5;28;01mTrue\u001B[39;00m\n\u001B[1;32m     12\u001B[0m )\n",
      "\u001B[0;31mNameError\u001B[0m: name 'summary_tool' is not defined"
     ]
    }
   ],
   "source": [
    "from llama_index.core.query_engine.router_query_engine import RouterQueryEngine\n",
    "from llama_index.core.selectors import LLMSingleSelector\n",
    "\n",
    "\n",
    "query_engine = RouterQueryEngine(\n",
    "    selector=LLMSingleSelector.from_defaults(),\n",
    "    query_engine_tools=[\n",
    "        summary_tool,\n",
    "        vector_tool,\n",
    "    ],\n",
    "    verbose=True\n",
    ")"
   ]
  },
  {
   "cell_type": "code",
   "execution_count": 8,
   "id": "407a6640aad0311c",
   "metadata": {
    "ExecuteTime": {
     "end_time": "2024-08-23T09:39:39.220837Z",
     "start_time": "2024-08-23T09:39:39.204248Z"
    }
   },
   "outputs": [
    {
     "ename": "NameError",
     "evalue": "name 'query_engine' is not defined",
     "output_type": "error",
     "traceback": [
      "\u001B[0;31m---------------------------------------------------------------------------\u001B[0m",
      "\u001B[0;31mNameError\u001B[0m                                 Traceback (most recent call last)",
      "Cell \u001B[0;32mIn[8], line 1\u001B[0m\n\u001B[0;32m----> 1\u001B[0m response \u001B[38;5;241m=\u001B[39m query_engine\u001B[38;5;241m.\u001B[39mquery(\u001B[38;5;124m\"\u001B[39m\u001B[38;5;124mWhat is the summary of the document?\u001B[39m\u001B[38;5;124m\"\u001B[39m)\n\u001B[1;32m      2\u001B[0m \u001B[38;5;28mprint\u001B[39m(\u001B[38;5;28mstr\u001B[39m(response))\n",
      "\u001B[0;31mNameError\u001B[0m: name 'query_engine' is not defined"
     ]
    }
   ],
   "source": [
    "response = query_engine.query(\"What is the summary of the document?\")\n",
    "print(str(response))"
   ]
  }
 ],
 "metadata": {
  "kernelspec": {
   "display_name": "Python 3",
   "language": "python",
   "name": "python3"
  },
  "language_info": {
   "codemirror_mode": {
    "name": "ipython",
    "version": 2
   },
   "file_extension": ".py",
   "mimetype": "text/x-python",
   "name": "python",
   "nbconvert_exporter": "python",
   "pygments_lexer": "ipython2",
   "version": "2.7.6"
  }
 },
 "nbformat": 4,
 "nbformat_minor": 5
}
